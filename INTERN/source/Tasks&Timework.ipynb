{
 "cells": [
  {
   "cell_type": "markdown",
   "metadata": {},
   "source": [
    "# timework\n",
    "\n",
    "- Sáng: 8h-11.5\n",
    "\n",
    "- Chiều: 14-16.5\n",
    "\n",
    "- Tối: 22-24\n",
    "\n",
    "https://docs.google.com/spreadsheets/d/17Z4YU8sme3_CmSVdvbC8wSCFQs_GFkH2uE3bvR8nVow/edit#gid=465092376\n",
    "\n",
    "\n",
    "- join meeting and share screen\n",
    "\n",
    "https://meet.google.com/dbt-nskz-jof\n",
    "\n",
    "\n",
    "***Tài khoản cấp quyền vào gg meet***\n",
    "\n",
    "Email: henry.universes@sam-foundation.org \n",
    "\n",
    "Pass: HenryCA@2023"
   ]
  },
  {
   "cell_type": "markdown",
   "metadata": {},
   "source": [
    "# task 01 -- done!\n",
    "***27/05/2024***\n",
    "\n",
    "https://docs.google.com/spreadsheets/d/17Z4YU8sme3_CmSVdvbC8wSCFQs_GFkH2uE3bvR8nVow/edit#gid=465092376\n",
    "\n",
    "\"- Chạy code jupyter trong link: http://118.69.153.38:8888/notebooks/RunCode/LinkedinBot.ipynb \n",
    "Pass: demo123 \n",
    "- chức năng code tự động gửi connect linkedin hàng loạt \n",
    "\n",
    "Thử research để fix lỗi chromedrive\""
   ]
  },
  {
   "cell_type": "markdown",
   "metadata": {},
   "source": [
    "# task 02\n",
    "***27/05/2024***\n",
    "\n",
    "https://docs.google.com/spreadsheets/d/1cokXolRXzep-rGVxQPoVLMsijeNYkMQR_vJQ5pz-DIA/edit#gid=0"
   ]
  },
  {
   "cell_type": "markdown",
   "metadata": {},
   "source": [
    "### task 2.1\n",
    "\n",
    "\"- Nghiên cứu đưa function connect linkedin của tool này lên google collab để người dùng dễ sử dụng \n",
    "\n",
    "https://github.com/nguyenxvotanminh3/newBotLinkedIn.git \""
   ]
  },
  {
   "cell_type": "markdown",
   "metadata": {},
   "source": [
    "### task 2.2\n",
    "\n",
    "\"- Nghiên cứu đưa Bot find social twitter lên google collab để người dùng dễ sử dụng\n",
    "\n",
    "https://drive.google.com/file/d/1ClSlhWluyRphtmruPLlgZrUrE2L5XHV1/view?usp=sharing\""
   ]
  },
  {
   "cell_type": "markdown",
   "metadata": {},
   "source": [
    "### task 2.3\n",
    "\n",
    "\"- Đưa Bot auto send message linkedin lên google collab để người dùng dễ sử dụng\n",
    "\n",
    "https://github.com/nguyenxvotanminh3/newBotLinkedIn\""
   ]
  },
  {
   "cell_type": "markdown",
   "metadata": {},
   "source": [
    "# task 06\n",
    "\n",
    "fix lỗi không thể gửi và nhận thư trên hệ thống SOgo\n",
    "https://docs.google.com/spreadsheets/d/1cokXolRXzep-rGVxQPoVLMsijeNYkMQR_vJQ5pz-DIA/edit#gid=0\n"
   ]
  },
  {
   "cell_type": "markdown",
   "metadata": {},
   "source": [
    "Để gửi và nhận email giữa các hộp thư trên máy chủ email đã cài đặt, bạn cần thực hiện các bước sau:\n",
    "\n",
    "1. **Thêm Domain và Mailboxes**:\n",
    "   - Đầu tiên, bạn cần thêm domain và các hộp thư vào máy chủ. Bạn có thể thêm domain và tạo các hộp thư với mật khẩu tương ứng.\n",
    "   \n",
    "2. **Đăng nhập vào Webmail**:\n",
    "   - Sau khi thêm domain và hộp thư, bạn đăng nhập vào webmail của từng hộp thư bằng các thông tin đăng nhập tương ứng.\n",
    "\n",
    "3. **Gửi Email**:\n",
    "   - Trong webmail, bạn có thể viết và gửi email bằng cách nhập địa chỉ email của người nhận và nội dung email.\n",
    "\n",
    "4. **Nhận Email**:\n",
    "   - Khi có email được gửi đến, bạn sẽ nhận được thông báo và có thể đọc email trong hộp thư của mình trên webmail.\n",
    "\n",
    "5. **Kiểm tra Email**:\n",
    "   - Để kiểm tra email đã gửi và nhận, bạn có thể xem trong hộp thư của mỗi hộp thư và kiểm tra trạng thái gửi/nhận email.\n",
    "\n",
    "6. **Xác nhận và kiểm tra**:\n",
    "   - Đảm bảo rằng email đã được gửi thành công và nhận được bởi hộp thư đích bằng cách kiểm tra trong hộp thư của từng hộp thư.\n",
    "\n",
    "Bằng cách thực hiện các bước trên, bạn có thể gửi và nhận email giữa các hộp thư trên máy chủ email đã cài đặt.\n"
   ]
  }
 ],
 "metadata": {
  "kernelspec": {
   "display_name": "Python 3",
   "language": "python",
   "name": "python3"
  },
  "language_info": {
   "name": "python",
   "version": "3.10.6"
  }
 },
 "nbformat": 4,
 "nbformat_minor": 2
}
