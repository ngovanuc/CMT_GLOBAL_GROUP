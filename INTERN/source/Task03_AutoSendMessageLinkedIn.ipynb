{
 "cells": [
  {
   "cell_type": "code",
   "execution_count": null,
   "metadata": {},
   "outputs": [],
   "source": [
    "'''\n",
    "Author: Ngo Van Uc\n",
    "Date: 04/06/2024\n",
    "Gmail: ngovanuc.git@gmail.com\n",
    "'''"
   ]
  },
  {
   "cell_type": "code",
   "execution_count": 1,
   "metadata": {},
   "outputs": [],
   "source": [
    "import csv\n",
    "import time\n",
    "import pandas as pd\n",
    "from random import randint\n",
    "from urllib.request import urlopen\n",
    "\n",
    "from urllib.error import HTTPError\n",
    "from urllib.error import URLError\n",
    "from bs4 import BeautifulSoup\n",
    "\n",
    "from telnetlib import EC\n",
    "from pynput.keyboard import Key, Controller\n",
    "from selenium.webdriver import Chrome\n",
    "from selenium.webdriver.common.by import By\n",
    "from selenium.webdriver.common.keys import Keys\n",
    "from selenium.common.exceptions import NoSuchElementException\n",
    "from selenium.webdriver.support.wait import WebDriverWait"
   ]
  },
  {
   "cell_type": "code",
   "execution_count": 2,
   "metadata": {},
   "outputs": [
    {
     "data": {
      "text/html": [
       "<div>\n",
       "<style scoped>\n",
       "    .dataframe tbody tr th:only-of-type {\n",
       "        vertical-align: middle;\n",
       "    }\n",
       "\n",
       "    .dataframe tbody tr th {\n",
       "        vertical-align: top;\n",
       "    }\n",
       "\n",
       "    .dataframe thead th {\n",
       "        text-align: right;\n",
       "    }\n",
       "</style>\n",
       "<table border=\"1\" class=\"dataframe\">\n",
       "  <thead>\n",
       "    <tr style=\"text-align: right;\">\n",
       "      <th></th>\n",
       "      <th>LinkedIn_Link</th>\n",
       "      <th>Status_Connect</th>\n",
       "      <th>Message</th>\n",
       "      <th>Status Message</th>\n",
       "    </tr>\n",
       "  </thead>\n",
       "  <tbody>\n",
       "    <tr>\n",
       "      <th>0</th>\n",
       "      <td>https://www.linkedin.com/in/mrivet/</td>\n",
       "      <td>Not Connected</td>\n",
       "      <td>hi</td>\n",
       "      <td>Message not sent</td>\n",
       "    </tr>\n",
       "    <tr>\n",
       "      <th>1</th>\n",
       "      <td>https://www.linkedin.com/in/jaimeleverton/</td>\n",
       "      <td>Connected</td>\n",
       "      <td>hi</td>\n",
       "      <td>Message sent</td>\n",
       "    </tr>\n",
       "    <tr>\n",
       "      <th>2</th>\n",
       "      <td>https://www.linkedin.com/in/gabriellowenberg-7...</td>\n",
       "      <td>Pending</td>\n",
       "      <td>hi</td>\n",
       "      <td>Message not sent</td>\n",
       "    </tr>\n",
       "    <tr>\n",
       "      <th>3</th>\n",
       "      <td>https://www.linkedin.com/in/cameron-b-hurst-bb...</td>\n",
       "      <td>Not Connected</td>\n",
       "      <td>hi</td>\n",
       "      <td>Message not sent</td>\n",
       "    </tr>\n",
       "    <tr>\n",
       "      <th>4</th>\n",
       "      <td>https://www.linkedin.com/in/jrbeattie/</td>\n",
       "      <td>Pending</td>\n",
       "      <td>hi</td>\n",
       "      <td>Message not sent</td>\n",
       "    </tr>\n",
       "  </tbody>\n",
       "</table>\n",
       "</div>"
      ],
      "text/plain": [
       "                                       LinkedIn_Link Status_Connect Message  \\\n",
       "0                https://www.linkedin.com/in/mrivet/  Not Connected      hi   \n",
       "1         https://www.linkedin.com/in/jaimeleverton/      Connected      hi   \n",
       "2  https://www.linkedin.com/in/gabriellowenberg-7...        Pending      hi   \n",
       "3  https://www.linkedin.com/in/cameron-b-hurst-bb...  Not Connected      hi   \n",
       "4             https://www.linkedin.com/in/jrbeattie/        Pending      hi   \n",
       "\n",
       "     Status Message  \n",
       "0  Message not sent  \n",
       "1      Message sent  \n",
       "2  Message not sent  \n",
       "3  Message not sent  \n",
       "4  Message not sent  "
      ]
     },
     "execution_count": 2,
     "metadata": {},
     "output_type": "execute_result"
    }
   ],
   "source": [
    "urlLinkedIn_path = \"E:/CMT_GLOBAL_GROUP/INTERN/newBotLinkedIn/recourses/url_linkedin.csv\"\n",
    "df = pd.read_csv(urlLinkedIn_path)\n",
    "df.head()"
   ]
  },
  {
   "cell_type": "code",
   "execution_count": 3,
   "metadata": {},
   "outputs": [],
   "source": [
    "# tài khoản đăng nhập LinkedIn cần cần connect\n",
    "userName = 'ucngo.c1.k2017@gmail.com'\n",
    "password = 'UCTINHOCalo1234#'\n",
    "LinkedIn_link = \"https://www.linkedin.com\"\n",
    "LinkedIn_login = \"https://www.linkedin.com/login?fromSignIn=true&trk=guest_homepage-basic_nav-header-signin\""
   ]
  },
  {
   "cell_type": "markdown",
   "metadata": {},
   "source": [
    "# auto send message linked tool v1"
   ]
  },
  {
   "cell_type": "code",
   "execution_count": 5,
   "metadata": {},
   "outputs": [
    {
     "name": "stdout",
     "output_type": "stream",
     "text": [
      "https://www.linkedin.com/in/mrivet/\n"
     ]
    }
   ],
   "source": [
    "profile_ex = df.iloc[0, 0]\n",
    "print(profile_ex)"
   ]
  },
  {
   "cell_type": "code",
   "execution_count": 12,
   "metadata": {},
   "outputs": [
    {
     "name": "stdout",
     "output_type": "stream",
     "text": [
      "[]\n"
     ]
    }
   ],
   "source": [
    "driver = Chrome()\n",
    "driver.get(LinkedIn_login)\n",
    "\n",
    "# điền tài khoản\n",
    "userName_input = driver.find_element(By.ID, \"username\")\n",
    "userName_input.send_keys(userName)\n",
    "\n",
    "# điền mật khẩu\n",
    "password_input = driver.find_element(By.ID, \"password\")\n",
    "password_input.send_keys(password)\n",
    "\n",
    "# click đăng nhập\n",
    "button_element = driver.find_element(By.CLASS_NAME, 'btn__primary--large')\n",
    "button_element.click()\n",
    "time.sleep(randint(5, 10))\n",
    "# đến đây là đăng nhập thành công!\n",
    "\n",
    "try:\n",
    "    driver.get(profile_ex)\n",
    "    html = driver.page_source\n",
    "    bs = BeautifulSoup(html, 'html.parser')\n",
    "\n",
    "    sendMess_tag = bs.find_all('div', {'class': 'entry-point profile-action-compose-option'})\n",
    "    print(sendMess_tag)\n",
    "\n",
    "except Exception as e1:\n",
    "    print(f'Some error at (1) {e1}')\n",
    "\n",
    "\n",
    "driver.quit()"
   ]
  }
 ],
 "metadata": {
  "kernelspec": {
   "display_name": "Python 3",
   "language": "python",
   "name": "python3"
  },
  "language_info": {
   "codemirror_mode": {
    "name": "ipython",
    "version": 3
   },
   "file_extension": ".py",
   "mimetype": "text/x-python",
   "name": "python",
   "nbconvert_exporter": "python",
   "pygments_lexer": "ipython3",
   "version": "3.10.6"
  }
 },
 "nbformat": 4,
 "nbformat_minor": 2
}
