{
 "cells": [
  {
   "cell_type": "markdown",
   "metadata": {},
   "source": [
    "***issues***\n",
    "\n",
    "- fix lỗi chromedriver"
   ]
  },
  {
   "cell_type": "markdown",
   "metadata": {},
   "source": [
    "***fix lỗi chromedriver***\n",
    "\n",
    "các tham chiếu:\n",
    "- https://developer.chrome.com/docs/chromedriver/get-started?hl=vi\n",
    "- https://katekuehl.medium.com/installation-guide-for-google-chrome-chromedriver-and-selenium-in-a-python-virtual-environment-e1875220be2f\n",
    "- https://googlechromelabs.github.io/chrome-for-testing/\n",
    "- https://stackoverflow.com/questions/76550506/typeerror-webdriver-init-got-an-unexpected-keyword-argument-executable-p\n",
    "- chrome://settings/help\n",
    "- chrome://version/\n",
    "\n",
    "solutions:\n",
    "- sửa code trong hàm web_driver, cập nhật code đúng phiên bản phát hành\n"
   ]
  },
  {
   "cell_type": "code",
   "execution_count": 1,
   "metadata": {},
   "outputs": [
    {
     "name": "stderr",
     "output_type": "stream",
     "text": [
      "'apt-get' is not recognized as an internal or external command,\n",
      "operable program or batch file.\n",
      "'apt-get' is not recognized as an internal or external command,\n",
      "operable program or batch file.\n"
     ]
    },
    {
     "name": "stdout",
     "output_type": "stream",
     "text": [
      "Note: you may need to restart the kernel to use updated packages.\n",
      "Note: you may need to restart the kernel to use updated packages.\n"
     ]
    }
   ],
   "source": [
    "!apt-get update \n",
    "!apt-get install -y chromium chromium-driver \n",
    "%pip install --quiet selenium\n",
    "%pip install --quiet webdriver_manager"
   ]
  },
  {
   "cell_type": "code",
   "execution_count": 6,
   "metadata": {},
   "outputs": [],
   "source": [
    "import os\n",
    "# thay đổi quyền truy cập của một tệp hoặc một thư mục trên hệ thống\n",
    "os.chmod('E:/CMT_GLOBAL_GROUP/DOWNLOAD/chromedriver-win64/chromedriver.exe', 755)"
   ]
  },
  {
   "cell_type": "code",
   "execution_count": 20,
   "metadata": {},
   "outputs": [
    {
     "data": {
      "text/plain": [
       "<selenium.webdriver.chrome.webdriver.WebDriver (session=\"92ec425d6482e14bfb4d51a28f372145\")>"
      ]
     },
     "execution_count": 20,
     "metadata": {},
     "output_type": "execute_result"
    }
   ],
   "source": [
    "from selenium import webdriver\n",
    "from selenium.webdriver.chrome.service import Service\n",
    "from webdriver_manager.chrome import ChromeDriverManager\n",
    "import sys\n",
    "\n",
    "# service = Service(executable_path='./chromedriver.exe')\n",
    "# options = webdriver.ChromeOptions()\n",
    "# driver = webdriver.Chrome(service=service, options=options)\n",
    "# # ...\n",
    "# driver.quit()\n",
    "\n",
    "def web_driver():\n",
    "    #path_browser = 'notebooks/RunCode/chromedriver_linux'\n",
    "    \n",
    "    options = webdriver.ChromeOptions()\n",
    "    options.add_argument(\"--verbose\")\n",
    "    options.add_argument('--no-sandbox')\n",
    "    options.add_argument('--headless')\n",
    "    options.add_argument('--disable-gpu')\n",
    "    options.add_argument(\"--window-size=1920, 1200\")\n",
    "    options.add_argument(\"--disable-dev-shm-usage\")\n",
    "    #driver = webdriver.Chrome(options=options)\n",
    "    if sys.platform == 'win32':\n",
    "        # comment for bellow line:\n",
    "        # driver = webdriver.Chrome(options=options, executable_path ='E:/CMT_GLOBAL_GROUP/DOWNLOAD/chromedriver-win64/chromedriver.exe') #windows\n",
    "\n",
    "        # add these code lines\n",
    "        service = Service(executable_path ='E:/CMT_GLOBAL_GROUP/DOWNLOAD/chromedriver-win64/chromedriver.exe')\n",
    "        options = webdriver.ChromeOptions()\n",
    "        driver = webdriver.Chrome(service=service, options=options)\n",
    "        # it's work\n",
    "        \n",
    "    elif sys.platform == 'linux':\n",
    "        driver = webdriver.Chrome(options=options,executable_path =\"/media/qtdata/sdb/RunCode/chromedriver\") #linux\n",
    "    else:\n",
    "        driver = webdriver.Chrome( 'chromedriver_mac') #mac\n",
    "    \n",
    "    driver.implicitly_wait(10)\n",
    "    return driver\n",
    "\n",
    "# web_driver()"
   ]
  },
  {
   "cell_type": "code",
   "execution_count": 21,
   "metadata": {},
   "outputs": [],
   "source": [
    "#import configparser\n",
    "import os\n",
    "import sys\n",
    "import time\n",
    "from selenium.webdriver.common.by import By\n",
    "from selenium.webdriver.support.wait import WebDriverWait\n",
    "from selenium.webdriver.support import expected_conditions as EC\n",
    "\n",
    "def Login_Linkedin(driver):\n",
    "\n",
    "    baseDir = os.path.dirname(os.path.realpath(sys.argv[0])) + os.path.sep\n",
    "    \"\"\" Setup Argument Parameters \"\"\"\n",
    "    #config = configparser.RawConfigParser()\n",
    "    #config.read('/content/sample_data/Account.cfg')\n",
    "\n",
    "    #username = config.get('CREDS', 'linkedin_username')\n",
    "    username = 'triquyen.bp@gmail.com'\n",
    "    \n",
    "    #password = config.get('CREDS', 'linkedin_password')\n",
    "    password = 'test123'\n",
    "    # head to  login page\n",
    "    driver.get(\"https://www.linkedin.com/home\")\n",
    "    time.sleep(10)\n",
    "    driver.find_element(By.XPATH, \"/html/body/main/section[1]/div/div/form/div[1]/div[1]/div/div/input\").send_keys(username)\n",
    "    driver.find_element(By.XPATH, \"/html/body/main/section[1]/div/div/form/div[1]/div[2]/div/div/input\").send_keys(password)\n",
    "    time.sleep(0.5)\n",
    "    # click login button\n",
    "    text_button = driver.find_element(By.XPATH,\n",
    "                                      \"/html/body/main/section[1]/div/div/form/div[2]/button\")\n",
    "\n",
    "    # wait for check robot\n",
    "    text_button.click()\n",
    "\n",
    "    #element = WebDriverWait(driver, 10).until(\n",
    "        #EC.presence_of_element_located((By.ID, \"global-nav\"))\n",
    "    #)"
   ]
  },
  {
   "cell_type": "code",
   "execution_count": 4,
   "metadata": {},
   "outputs": [
    {
     "name": "stdout",
     "output_type": "stream",
     "text": [
      "Note: you may need to restart the kernel to use updated packages.\n",
      "Collecting oauth2client\n",
      "  Downloading oauth2client-4.1.3-py2.py3-none-any.whl.metadata (1.2 kB)\n",
      "Collecting httplib2>=0.9.1 (from oauth2client)\n",
      "  Downloading httplib2-0.22.0-py3-none-any.whl.metadata (2.6 kB)\n",
      "Requirement already satisfied: pyasn1>=0.1.7 in c:\\users\\jos uc\\appdata\\local\\programs\\python\\python310\\lib\\site-packages (from oauth2client) (0.6.0)\n",
      "Requirement already satisfied: pyasn1-modules>=0.0.5 in c:\\users\\jos uc\\appdata\\local\\programs\\python\\python310\\lib\\site-packages (from oauth2client) (0.4.0)\n",
      "Requirement already satisfied: rsa>=3.1.4 in c:\\users\\jos uc\\appdata\\local\\programs\\python\\python310\\lib\\site-packages (from oauth2client) (4.9)\n",
      "Requirement already satisfied: six>=1.6.1 in c:\\users\\jos uc\\appdata\\roaming\\python\\python310\\site-packages (from oauth2client) (1.16.0)\n",
      "Requirement already satisfied: pyparsing!=3.0.0,!=3.0.1,!=3.0.2,!=3.0.3,<4,>=2.4.2 in c:\\users\\jos uc\\appdata\\local\\programs\\python\\python310\\lib\\site-packages (from httplib2>=0.9.1->oauth2client) (3.1.2)\n",
      "Downloading oauth2client-4.1.3-py2.py3-none-any.whl (98 kB)\n",
      "   ---------------------------------------- 0.0/98.2 kB ? eta -:--:--\n",
      "   --------------------------------- ------ 81.9/98.2 kB 2.3 MB/s eta 0:00:01\n",
      "   ---------------------------------------- 98.2/98.2 kB 1.9 MB/s eta 0:00:00\n",
      "Downloading httplib2-0.22.0-py3-none-any.whl (96 kB)\n",
      "   ---------------------------------------- 0.0/96.9 kB ? eta -:--:--\n",
      "   ---------------------------------------- 96.9/96.9 kB 5.4 MB/s eta 0:00:00\n",
      "Installing collected packages: httplib2, oauth2client\n",
      "Successfully installed httplib2-0.22.0 oauth2client-4.1.3\n",
      "Note: you may need to restart the kernel to use updated packages.\n",
      "Requirement already satisfied: PyOpenSSL in c:\\users\\jos uc\\appdata\\local\\programs\\python\\python310\\lib\\site-packages (24.1.0)\n",
      "Requirement already satisfied: cryptography<43,>=41.0.5 in c:\\users\\jos uc\\appdata\\local\\programs\\python\\python310\\lib\\site-packages (from PyOpenSSL) (42.0.7)\n",
      "Requirement already satisfied: cffi>=1.12 in c:\\users\\jos uc\\appdata\\local\\programs\\python\\python310\\lib\\site-packages (from cryptography<43,>=41.0.5->PyOpenSSL) (1.16.0)\n",
      "Requirement already satisfied: pycparser in c:\\users\\jos uc\\appdata\\local\\programs\\python\\python310\\lib\\site-packages (from cffi>=1.12->cryptography<43,>=41.0.5->PyOpenSSL) (2.22)\n",
      "Note: you may need to restart the kernel to use updated packages.\n"
     ]
    }
   ],
   "source": [
    "%pip install --quiet --upgrade gspread\n",
    "%pip install --quiet --upgrade oauth2client\n",
    "%pip install --quiet --upgrade PyOpenSSL"
   ]
  },
  {
   "cell_type": "code",
   "execution_count": 22,
   "metadata": {},
   "outputs": [],
   "source": [
    "import time\n",
    "\n",
    "import pandas as pd\n",
    "import numpy as np\n",
    "from selenium.webdriver.common.by import By\n",
    "from selenium.common.exceptions import NoSuchElementException\n",
    "from selenium.webdriver.support.wait import WebDriverWait\n",
    "from urllib.parse import urlparse\n",
    "import gspread\n",
    "from oauth2client.service_account import ServiceAccountCredentials\n",
    "import sys\n",
    "\n",
    "def autoConnect(driver):\n",
    "\n",
    "    # define the scope\n",
    "    scope = ['https://spreadsheets.google.com/feeds','https://www.googleapis.com/auth/drive']\n",
    "\n",
    "    # add credentials to the account\n",
    "    creds = ServiceAccountCredentials.from_json_keyfile_name('linkedinbot-secret_key.json', scope)\n",
    "\n",
    "    # authorize the clientsheet\n",
    "    client = gspread.authorize(creds)\n",
    "    sheet = client.open_by_url('https://docs.google.com/spreadsheets/d/1QI2SPIwBgUJam8DwQXt-JbcIRlOtaqgLHNXtVGY1Z4A/edit#gid=0')\n",
    "    # get the first sheet of the Spreadsheet\n",
    "    sheet_instance = sheet.get_worksheet(0)\n",
    "    records_data = sheet_instance.get_all_records()\n",
    "    \n",
    "    for row,record in enumerate(records_data,start=2):\n",
    "        link = record['LinkedIn_Link']\n",
    "        print(link)\n",
    "        driver.get(link)\n",
    "        driver.save_screenshot('screenshot.png')\n",
    "        time.sleep(6)\n",
    "        print('Try to click connect')\n",
    "\n",
    "        try:\n",
    "            followButon = driver.find_element(By.XPATH, \"/html/body/div[5]/div[3]/div/div/div[2]/div/div/main/section[1]/div[2]/div[3]/div/button\")\n",
    "            button_text1 = followButon.get_attribute(\"aria-label\")\n",
    "            if \"Invite\" in button_text1:\n",
    "                try:\n",
    "                    checkStatus = followButon.get_attribute(\"aria-label\")\n",
    "                    print(\"This person is not connected , try to click connect..........\")\n",
    "                    followButon.click()\n",
    "                    print(\"click connect!\")\n",
    "                    time.sleep(2)\n",
    "                    connectButonNew = driver.find_element(By.XPATH, \"/html/body/div[3]/div/div/div[3]/button[2]\")\n",
    "                    connectButonNew.click()\n",
    "                    time.sleep(2)\n",
    "\n",
    "                    if \"Pending\" in checkStatus:\n",
    "                        print(\"Invite sent !\" + record['LinkedIn_Link'])\n",
    "                        sheet_instance.update([[link, 'Pending', 'Invite sent', 'Message not sent']], f'A{row}:D{row}')\n",
    "                    else:\n",
    "                        print(\"Not connected one !\" + record['LinkedIn_Link'])\n",
    "                        sheet_instance.update([[link, 'Not Connected', 'Not Connected', 'Message not sent']], f'A{row}:D{row}')\n",
    "                except NoSuchElementException:\n",
    "                    print(\"Not connected one !\" + record['LinkedIn_Link'])\n",
    "                    sheet_instance.update([[link, 'Not Connected', 'Not Connected', 'Message not sent']], f'A{row}:D{row}')\n",
    "            elif \"Follow\" in button_text1:\n",
    "                try:\n",
    "                    connectButonNew1 = driver.find_element(By.XPATH, \"/html/body/div[5]/div[3]/div/div/div[2]/div/div/main/section[1]/div[2]/div[3]/div/div[2]/button\")\n",
    "                    connectButonNew1.click()\n",
    "                    time.sleep(1)\n",
    "                    connectButonNew2 = driver.find_element(By.XPATH,\"/html/body/div[5]/div[3]/div/div/div[2]/div/div/main/section[1]/div[2]/div[3]/div/div[2]/div/div/ul/li[3]/div\")\n",
    "                    connectButonNew2.click()\n",
    "\n",
    "                    connectButonNew3 = driver.find_element(By.XPATH,\n",
    "                                                            \"/html/body/div[3]/div/div/div[3]/button[2]\")\n",
    "\n",
    "                    connectButonNew3.click()\n",
    "                    time.sleep(2)\n",
    "                    followButon1 = driver.find_element(By.XPATH,\n",
    "                                                      \"/html/body/div[5]/div[3]/div/div/div[2]/div/div/main/section[1]/div[2]/div[3]/div/button\")\n",
    "                    test = followButon1.get_attribute(\"aria-label\")\n",
    "                    if(\"Pending\" in test):\n",
    "                        sheet_instance.update([[link, 'Not Connected', 'Invite sent', 'Message not sent']], f'A{row}:D{row}')\n",
    "                    else:\n",
    "                        sheet_instance.update([[link, 'Not Connected', 'Not connected', 'Message not sent']], f'A{row}:D{row}')\n",
    "                except NoSuchElementException:\n",
    "                    print(\"Not connected one !\" + record['LinkedIn_Link'])\n",
    "                    sheet_instance.update([[link, 'Not Connected', 'Not connected', 'Message not sent']], f'A{row}:D{row}')\n",
    "            elif \"Pending\" in button_text1:\n",
    "                    print(\"Pending!\" + record['LinkedIn_Link'])\n",
    "                    sheet_instance.update([[link, 'Pending', 'Pending', 'Message not sent']], f'A{row}:D{row}')\n",
    "                    print(\"write in csv!\")\n",
    "        except NoSuchElementException:\n",
    "            try:\n",
    "                checkStatus = driver.find_element(By.XPATH,\n",
    "                                                  \"/html/body/div[5]/div[3]/div/div/div[2]/div/div/main/section[1]/div[2]/div[3]/div/div[2]/button\")\n",
    "                checkStatus.click()\n",
    "                time.sleep(1)\n",
    "                checkStatus = driver.find_element(By.XPATH,\n",
    "                                                  \"/html/body/div[5]/div[3]/div/div/div[2]/div/div/main/section[1]/div[2]/div[3]/div/div[2]/div/div/ul/li[7]/div\")\n",
    "                checkStatus2 = checkStatus.get_attribute(\"aria-label\")\n",
    "                if \"Remove\" in checkStatus2:\n",
    "                    print(\"Connected one!\" + record['LinkedIn_Link'])\n",
    "                    sheet_instance.update([[link, 'Connected', 'Connected one!', 'Message not sent']], f'A{row}:D{row}')\n",
    "                    print(\"write in csv!\")\n",
    "                    try:\n",
    "                        sendMessageButton = driver.find_element(By.XPATH,\"/html/body/div[5]/div[3]/div/div/div[2]/div/div/main/section[1]/div[2]/div[3]/div/div[1]/button\")\n",
    "                        print(\"Message buton found\")\n",
    "                        sendMessageButton.click()\n",
    "                        time.sleep(1)\n",
    "\n",
    "                        driver.find_element(By.XPATH,\"/html/body/div[5]/div[4]/aside[1]/div[2]/div[1]/div[2]/div/form/div[2]/div/div[1]/div[1]\").send_keys(record['Message'])\n",
    "\n",
    "                        time.sleep(1)\n",
    "                        driver.find_element(By.XPATH,\n",
    "                                            \"/html/body/div[5]/div[4]/aside[1]/div[2]/div[1]/div[2]/div/form/footer/div[2]/div[1]/button\").click()\n",
    "                        time.sleep(4)\n",
    "                        print(\"click\")\n",
    "                        sheet_instance.update([[link, 'Connected', 'Connected one!', 'Message sent']], f'A{row}:D{row}')\n",
    "                    except NoSuchElementException:\n",
    "                        try:\n",
    "                            # button_text2 = driver.find_element(By.XPATH,\"/html/body/div[5]/div[4]/aside[1]/div[3]/div[1]/div[2]/div/form/div[3]/div/div[1]/div[1]/p\")\n",
    "                            # time.sleep(2)\n",
    "                            driver.find_element(By.XPATH, \"//div[contains(@class, 'msg-form__contenteditable')]\").send_keys(record['Message'])\n",
    "                            time.sleep(2)\n",
    "                            # button_text2.send_keys(data['Message'][value])\n",
    "                            driver.find_element(By.XPATH,\n",
    "                                                \"/html/body/div[5]/div[4]/aside[1]/div[2]/div[1]/div[2]/div/form/footer/div[2]/div[1]/button\").click()\n",
    "                            time.sleep(4)\n",
    "                            print(\"click\")\n",
    "                            driver.find_element(By.XPATH,\n",
    "                                                \"/html/body/div[5]/div[4]/aside[1]/div[2]/div[1]/header/div[4]/button[3]\").click()\n",
    "                            time.sleep(0.5)\n",
    "                            print(\"click\")\n",
    "                            sheet_instance.update([[link, 'Connected', 'Connected one!', 'Message sent']], f'A{row}:D{row}')\n",
    "                        except NoSuchElementException:\n",
    "                            print(\"Cant Send Message\")\n",
    "                            sheet_instance.update([[link, 'Connected', 'Connected one!', 'Message not sent']], f'A{row}:D{row}')\n",
    "            except NoSuchElementException as e:\n",
    "                print(\"Not Connected\" + record['LinkedIn_Link'])\n",
    "                sheet_instance.update([[link, 'Not Connected1', 'Not Connected', 'Message not sent']], f'A{row}:D{row}')\n",
    "                print(\"write in csv!\")"
   ]
  },
  {
   "cell_type": "code",
   "execution_count": null,
   "metadata": {},
   "outputs": [],
   "source": [
    "!chromium --version\n",
    "!chromedriver --version\n",
    "!dpkg -l | grep libnss3\n"
   ]
  },
  {
   "cell_type": "code",
   "execution_count": 23,
   "metadata": {},
   "outputs": [
    {
     "name": "stdout",
     "output_type": "stream",
     "text": [
      "3.10.6 (tags/v3.10.6:9c7b4bd, Aug  1 2022, 21:53:49) [MSC v.1932 64 bit (AMD64)]\n"
     ]
    }
   ],
   "source": [
    "import sys\n",
    "print(sys.version)"
   ]
  },
  {
   "cell_type": "code",
   "execution_count": 24,
   "metadata": {},
   "outputs": [
    {
     "name": "stdout",
     "output_type": "stream",
     "text": [
      "win32\n"
     ]
    }
   ],
   "source": [
    "print(sys.platform)"
   ]
  }
 ],
 "metadata": {
  "kernelspec": {
   "display_name": "Python 3",
   "language": "python",
   "name": "python3"
  },
  "language_info": {
   "codemirror_mode": {
    "name": "ipython",
    "version": 3
   },
   "file_extension": ".py",
   "mimetype": "text/x-python",
   "name": "python",
   "nbconvert_exporter": "python",
   "pygments_lexer": "ipython3",
   "version": "3.10.6"
  }
 },
 "nbformat": 4,
 "nbformat_minor": 2
}
